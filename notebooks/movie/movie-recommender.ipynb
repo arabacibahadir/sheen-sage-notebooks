{
 "cells": [
  {
   "cell_type": "code",
   "execution_count": 1,
   "metadata": {
    "execution": {
     "iopub.execute_input": "2023-06-28T20:12:44.670990Z",
     "iopub.status.busy": "2023-06-28T20:12:44.670577Z",
     "iopub.status.idle": "2023-06-28T20:12:51.572642Z",
     "shell.execute_reply": "2023-06-28T20:12:51.571449Z",
     "shell.execute_reply.started": "2023-06-28T20:12:44.670949Z"
    },
    "ExecuteTime": {
     "end_time": "2023-07-04T09:40:34.847148Z",
     "start_time": "2023-07-04T09:40:20.949270700Z"
    }
   },
   "outputs": [
    {
     "name": "stderr",
     "output_type": "stream",
     "text": [
      "Found cached dataset csv (C:/Users/Administrator/.cache/huggingface/datasets/wykonos___csv/wykonos--movies-6c40eec4956b52dc/0.0.0/eea64c71ca8b46dd3f537ed218fc9bf495d5707789152eb2764f5c78fa66d59d)\n"
     ]
    },
    {
     "data": {
      "text/plain": "  0%|          | 0/1 [00:00<?, ?it/s]",
      "application/vnd.jupyter.widget-view+json": {
       "version_major": 2,
       "version_minor": 0,
       "model_id": "fb6068c47f594368bd2520eb4f64486c"
      }
     },
     "metadata": {},
     "output_type": "display_data"
    },
    {
     "data": {
      "text/plain": "Creating CSV from Arrow format:   0%|          | 0/723 [00:00<?, ?ba/s]",
      "application/vnd.jupyter.widget-view+json": {
       "version_major": 2,
       "version_minor": 0,
       "model_id": "c795d05e35a647268b957e4f3d8aab51"
      }
     },
     "metadata": {},
     "output_type": "display_data"
    },
    {
     "name": "stdout",
     "output_type": "stream",
     "text": [
      "            id                                title  \\\n",
      "0       385687                               Fast X   \n",
      "1       758323                  The Pope's Exorcist   \n",
      "2       640146    Ant-Man and the Wasp: Quantumania   \n",
      "3       677179                            Creed III   \n",
      "4       502356          The Super Mario Bros. Movie   \n",
      "...        ...                                  ...   \n",
      "722791  900760  A Incessante Conquista da Escuridão   \n",
      "722792  957818                  Hollywood Varieties   \n",
      "722793  648905                 A Man Must Be Strong   \n",
      "722794  576855                        Stastriptease   \n",
      "722795  968161                        Gising Sining   \n",
      "\n",
      "                                           genres original_language  \\\n",
      "0                           Action-Crime-Thriller                en   \n",
      "1                         Horror-Mystery-Thriller                en   \n",
      "2                Action-Adventure-Science Fiction                en   \n",
      "3                                    Drama-Action                en   \n",
      "4       Animation-Family-Adventure-Fantasy-Comedy                en   \n",
      "...                                           ...               ...   \n",
      "722791                                        NaN                pt   \n",
      "722792                                     Comedy                en   \n",
      "722793                                        NaN                it   \n",
      "722794                                        NaN                de   \n",
      "722795                                        NaN                tl   \n",
      "\n",
      "                                                 overview  popularity  \\\n",
      "0       Over many missions and against impossible odds...    6682.100   \n",
      "1       Father Gabriele Amorth Chief Exorcist of the V...    5953.227   \n",
      "2       Super-Hero partners Scott Lang and Hope van Dy...    4425.387   \n",
      "3       After dominating the boxing world Adonis Creed...    3994.342   \n",
      "4       While working underground to fix a water main ...    3859.926   \n",
      "...                                                   ...         ...   \n",
      "722791  Two voices talk about the impermanence of the ...       0.600   \n",
      "722792  Entertainment trade-paper headlines report the...       0.600   \n",
      "722793  Jack starts the transition in order to let his...       0.600   \n",
      "722794                                                NaN       0.600   \n",
      "722795  In a country where fascism foolishness of peop...       0.600   \n",
      "\n",
      "                                     production_companies release_date  \\\n",
      "0       Universal Pictures-Original Film-One Race-Perf...   2023-05-17   \n",
      "1       Screen Gems-2.0 Entertainment-Jesus & Mary-Wor...   2023-04-05   \n",
      "2                  Marvel Studios-Kevin Feige Productions   2023-02-15   \n",
      "3       Metro-Goldwyn-Mayer-Proximity Media-Balboa Pro...   2023-03-01   \n",
      "4                Universal Pictures-Illumination-Nintendo   2023-04-05   \n",
      "...                                                   ...          ...   \n",
      "722791                                                NaN   2021-04-15   \n",
      "722792                                                NaN   1950-01-01   \n",
      "722793                                                NaN   2019-11-19   \n",
      "722794                                                NaN   2018-06-07   \n",
      "722795                                          Studio RD          NaN   \n",
      "\n",
      "             budget       revenue  runtime    status  \\\n",
      "0       340000000.0  6.867000e+08    142.0  Released   \n",
      "1        18000000.0  6.567582e+07    103.0  Released   \n",
      "2       200000000.0  4.757662e+08    125.0  Released   \n",
      "3        75000000.0  2.690000e+08    116.0  Released   \n",
      "4       100000000.0  1.278767e+09     92.0  Released   \n",
      "...             ...           ...      ...       ...   \n",
      "722791          0.0  0.000000e+00     10.0  Released   \n",
      "722792          0.0  0.000000e+00     60.0  Released   \n",
      "722793          0.0  0.000000e+00     61.0  Released   \n",
      "722794          0.0  0.000000e+00      NaN  Released   \n",
      "722795          0.0  0.000000e+00     19.0  Released   \n",
      "\n",
      "                                                  tagline  vote_average  \\\n",
      "0                             The end of the road begins.         7.331   \n",
      "1       Inspired by the actual files of Father Gabriel...         7.433   \n",
      "2                 Witness the beginning of a new dynasty.         6.507   \n",
      "3                           You can't run from your past.         7.262   \n",
      "4                                                     NaN         7.764   \n",
      "...                                                   ...           ...   \n",
      "722791                                                NaN         0.000   \n",
      "722792                  Big time Vaudeville on the screen         0.000   \n",
      "722793                                                NaN         0.000   \n",
      "722794                                                NaN         0.000   \n",
      "722795                                                NaN         0.000   \n",
      "\n",
      "        vote_count                                            credits  \\\n",
      "0           1856.0  Vin Diesel-Michelle Rodriguez-Tyrese Gibson-Lu...   \n",
      "1            545.0  Russell Crowe-Daniel Zovatto-Alex Essoe-Franco...   \n",
      "2           2811.0  Paul Rudd-Evangeline Lilly-Jonathan Majors-Kat...   \n",
      "3           1129.0  Michael B. Jordan-Tessa Thompson-Jonathan Majo...   \n",
      "4           4042.0  Chris Pratt-Charlie Day-Anya Taylor-Joy-Jack B...   \n",
      "...            ...                                                ...   \n",
      "722791         0.0                                         Rita Poças   \n",
      "722792         0.0  Robert Alda-Ken Trietsch-Paul Trietsch-Al Shaw...   \n",
      "722793         0.0                                                NaN   \n",
      "722794         0.0                                                NaN   \n",
      "722795         0.0                               Ruka Azuma-Mel Perez   \n",
      "\n",
      "                                                 keywords  \\\n",
      "0                       sequel-revenge-racing-family-cars   \n",
      "1       spain-rome italy-vatican-pope-pig-possession-c...   \n",
      "2       hero-ant-sequel-superhero-based on comic-famil...   \n",
      "3       philadelphia pennsylvania-husband wife relatio...   \n",
      "4       video game-gorilla-plumber-magic mushroom-anth...   \n",
      "...                                                   ...   \n",
      "722791                                                NaN   \n",
      "722792                                                NaN   \n",
      "722793                                                NaN   \n",
      "722794                                                NaN   \n",
      "722795                                                NaN   \n",
      "\n",
      "                             poster_path                     backdrop_path  \\\n",
      "0       /fiVW06jE7z9YnO4trhaMEdclSiC.jpg  /4XM8DUTQb3lhLemJC51Jx4a2EuA.jpg   \n",
      "1       /9JBEPLTPSm0d1mbEcLxULjJq9Eh.jpg  /hiHGRbyTcbZoLsYYkO4QiCLYe34.jpg   \n",
      "2       /qnqGbB22YJ7dSs4o6M7exTpNxPz.jpg  /m8JTwHFwX7I7JY5fPe4SjqejWag.jpg   \n",
      "3       /cvsXj3I9Q2iyyIo95AecSd1tad7.jpg  /5i6SjyDbDWqyun8klUuCxrlFbyw.jpg   \n",
      "4       /qNBAXBIQlnOThrVvA6mA2B5ggV6.jpg  /2klQ1z1fcHGgQPevbEQdkCnzyuS.jpg   \n",
      "...                                  ...                               ...   \n",
      "722791  /l2cEYTvqgsi0tvxRHZYdEQKPBLM.jpg                               NaN   \n",
      "722792                               NaN                               NaN   \n",
      "722793  /fKvCVxVjShCTTOpBZeOYGsEwisK.jpg                               NaN   \n",
      "722794                               NaN                               NaN   \n",
      "722795   /jv34KgS7D997H5kbVYxKLJRScg.jpg                               NaN   \n",
      "\n",
      "                                          recommendations  \n",
      "0       19603-445954-697843-603692-781009-502356-74735...  \n",
      "1       713704-296271-502356-1076605-1084225-1008005-9...  \n",
      "2       823999-676841-868759-734048-267805-965839-1033...  \n",
      "3       965839-267805-943822-842942-1035806-823999-107...  \n",
      "4       713704-385687-640146-60898-758323-1008005-4935...  \n",
      "...                                                   ...  \n",
      "722791                                                NaN  \n",
      "722792                                                NaN  \n",
      "722793                                                NaN  \n",
      "722794                                                NaN  \n",
      "722795                                                NaN  \n",
      "\n",
      "[722796 rows x 20 columns]\n"
     ]
    }
   ],
   "source": [
    "import pandas as pd\n",
    "from datasets import load_dataset\n",
    "hf_data = load_dataset(\"wykonos/movies\")\n",
    "train_data = hf_data['train']\n",
    "train_data.to_csv('movies_dataset.csv')\n",
    "data = pd.read_csv(\"movies_dataset.csv\")\n",
    "print(data)"
   ]
  },
  {
   "cell_type": "code",
   "execution_count": 2,
   "outputs": [
    {
     "name": "stdout",
     "output_type": "stream",
     "text": [
      "(722796, 20)\n",
      "<class 'pandas.core.frame.DataFrame'>\n",
      "RangeIndex: 722796 entries, 0 to 722795\n",
      "Data columns (total 20 columns):\n",
      " #   Column                Non-Null Count   Dtype  \n",
      "---  ------                --------------   -----  \n",
      " 0   id                    722796 non-null  int64  \n",
      " 1   title                 722790 non-null  object \n",
      " 2   genres                511934 non-null  object \n",
      " 3   original_language     722796 non-null  object \n",
      " 4   overview              604198 non-null  object \n",
      " 5   popularity            722796 non-null  float64\n",
      " 6   production_companies  337170 non-null  object \n",
      " 7   release_date          670329 non-null  object \n",
      " 8   budget                722796 non-null  float64\n",
      " 9   revenue               722796 non-null  float64\n",
      " 10  runtime               688346 non-null  float64\n",
      " 11  status                722796 non-null  object \n",
      " 12  tagline               108098 non-null  object \n",
      " 13  vote_average          722796 non-null  float64\n",
      " 14  vote_count            722796 non-null  float64\n",
      " 15  credits               497689 non-null  object \n",
      " 16  keywords              210271 non-null  object \n",
      " 17  poster_path           537566 non-null  object \n",
      " 18  backdrop_path         222524 non-null  object \n",
      " 19  recommendations       34720 non-null   object \n",
      "dtypes: float64(6), int64(1), object(13)\n",
      "memory usage: 110.3+ MB\n"
     ]
    },
    {
     "data": {
      "text/plain": "1"
     },
     "execution_count": 2,
     "metadata": {},
     "output_type": "execute_result"
    }
   ],
   "source": [
    "print(data.shape)\n",
    "data.info() # 20 feature for +700k movies\n",
    "data.isnull().sum()\n",
    "data.duplicated().sum()"
   ],
   "metadata": {
    "collapsed": false,
    "ExecuteTime": {
     "end_time": "2023-07-04T09:40:36.549999100Z",
     "start_time": "2023-07-04T09:40:34.849148600Z"
    }
   }
  },
  {
   "cell_type": "markdown",
   "metadata": {},
   "source": []
  },
  {
   "cell_type": "code",
   "execution_count": 3,
   "metadata": {
    "execution": {
     "iopub.execute_input": "2023-06-28T20:12:56.084407Z",
     "iopub.status.busy": "2023-06-28T20:12:56.084110Z",
     "iopub.status.idle": "2023-06-28T20:12:57.725569Z",
     "shell.execute_reply": "2023-06-28T20:12:57.724596Z",
     "shell.execute_reply.started": "2023-06-28T20:12:56.084380Z"
    },
    "ExecuteTime": {
     "end_time": "2023-07-04T09:40:37.703000600Z",
     "start_time": "2023-07-04T09:40:36.551000200Z"
    }
   },
   "outputs": [
    {
     "data": {
      "text/plain": "2260"
     },
     "execution_count": 3,
     "metadata": {},
     "output_type": "execute_result"
    }
   ],
   "source": [
    "df = data.drop([\"production_companies\", \"popularity\", \"budget\", \"revenue\", \"status\", \"recommendations\", \"runtime\", \"vote_average\", \"backdrop_path\", \"tagline\"], axis=1)\n",
    "df.drop_duplicates(inplace=True)\n",
    "df.title.duplicated().sum()\n",
    "df[[\"title\", \"release_date\"]].duplicated().sum()"
   ]
  },
  {
   "cell_type": "code",
   "execution_count": 4,
   "metadata": {
    "execution": {
     "iopub.execute_input": "2023-06-28T20:12:58.251848Z",
     "iopub.status.busy": "2023-06-28T20:12:58.251377Z",
     "iopub.status.idle": "2023-06-28T20:12:58.741513Z",
     "shell.execute_reply": "2023-06-28T20:12:58.740241Z",
     "shell.execute_reply.started": "2023-06-28T20:12:58.251805Z"
    },
    "ExecuteTime": {
     "end_time": "2023-07-04T09:40:38.053002900Z",
     "start_time": "2023-07-04T09:40:37.705999100Z"
    }
   },
   "outputs": [],
   "source": [
    "df.drop_duplicates(subset=[\"title\",\"release_date\"], inplace=True)\n",
    "df = df[df.vote_count >= 350].reset_index()\n",
    "df.isnull().sum()\n",
    "df.fillna(\"\", inplace = True)\n",
    "index = df[(df.genres == \"\") & (df.overview == \"\")].index\n",
    "df.drop(index, inplace=True)\n",
    "df.genres = df.genres.apply(lambda x: \" \".join(x.split(\"-\")))\n",
    "df.keywords = df.keywords.apply(lambda x: \" \".join(x.split(\"-\")))\n",
    "df.credits = df.credits.apply(lambda x: \" \".join(x.replace(\" \", \"\").split(\"-\")[:5]))"
   ]
  },
  {
   "cell_type": "code",
   "execution_count": 5,
   "metadata": {
    "execution": {
     "iopub.execute_input": "2023-06-28T20:12:58.933808Z",
     "iopub.status.busy": "2023-06-28T20:12:58.933411Z",
     "iopub.status.idle": "2023-06-28T20:12:58.961820Z",
     "shell.execute_reply": "2023-06-28T20:12:58.960894Z",
     "shell.execute_reply.started": "2023-06-28T20:12:58.933778Z"
    },
    "ExecuteTime": {
     "end_time": "2023-07-04T09:40:38.078345500Z",
     "start_time": "2023-07-04T09:40:38.054000900Z"
    }
   },
   "outputs": [
    {
     "name": "stderr",
     "output_type": "stream",
     "text": [
      "C:\\Users\\Administrator\\AppData\\Local\\Temp\\ipykernel_57792\\3127502652.py:3: SettingWithCopyWarning: \n",
      "A value is trying to be set on a copy of a slice from a DataFrame.\n",
      "Try using .loc[row_indexer,col_indexer] = value instead\n",
      "\n",
      "See the caveats in the documentation: https://pandas.pydata.org/pandas-docs/stable/user_guide/indexing.html#returning-a-view-versus-a-copy\n",
      "  new_df.tags = new_df.tags.apply(lambda x:x.lower())\n"
     ]
    }
   ],
   "source": [
    "df[\"tags\"] = df.overview + \" \"+ df.genres + \" \"  +df.credits + \" \" +df.keywords + \" \" + df.original_language\n",
    "new_df = df[[\"id\", \"title\", \"tags\", \"poster_path\"]]\n",
    "new_df.tags = new_df.tags.apply(lambda x:x.lower())"
   ]
  },
  {
   "cell_type": "code",
   "execution_count": 6,
   "metadata": {
    "execution": {
     "iopub.execute_input": "2023-06-28T20:13:24.430971Z",
     "iopub.status.busy": "2023-06-28T20:13:24.430612Z",
     "iopub.status.idle": "2023-06-28T20:13:24.443628Z",
     "shell.execute_reply": "2023-06-28T20:13:24.442828Z",
     "shell.execute_reply.started": "2023-06-28T20:13:24.430942Z"
    },
    "ExecuteTime": {
     "end_time": "2023-07-04T09:40:43.004631Z",
     "start_time": "2023-07-04T09:40:38.078345500Z"
    }
   },
   "outputs": [],
   "source": [
    "from nltk.stem.porter import PorterStemmer\n",
    "new_df = df.copy()\n",
    "\n",
    "def stem(text):\n",
    "    ps = PorterStemmer()\n",
    "    stemmed_words = [ps.stem(word) for word in text.split()]\n",
    "    return \" \".join(stemmed_words)\n",
    "\n",
    "new_df.loc[:, \"tags\"] = new_df[\"tags\"].apply(stem)"
   ]
  },
  {
   "cell_type": "code",
   "execution_count": 7,
   "metadata": {
    "execution": {
     "iopub.execute_input": "2023-06-28T20:13:17.184440Z",
     "iopub.status.busy": "2023-06-28T20:13:17.183399Z",
     "iopub.status.idle": "2023-06-28T20:13:17.191379Z",
     "shell.execute_reply": "2023-06-28T20:13:17.190467Z",
     "shell.execute_reply.started": "2023-06-28T20:13:17.184388Z"
    },
    "ExecuteTime": {
     "end_time": "2023-07-04T09:40:48.254840100Z",
     "start_time": "2023-07-04T09:40:43.005631200Z"
    }
   },
   "outputs": [
    {
     "name": "stderr",
     "output_type": "stream",
     "text": [
      "C:\\Users\\Administrator\\sheen-sage-notebooks\\Lib\\site-packages\\sklearn\\utils\\extmath.py:193: RuntimeWarning: invalid value encountered in matmul\n",
      "  ret = a @ b\n"
     ]
    }
   ],
   "source": [
    "from sklearn.feature_extraction.text import CountVectorizer\n",
    "from sklearn.metrics.pairwise import cosine_similarity\n",
    "cv = CountVectorizer(stop_words=\"english\", max_features=5000)\n",
    "vectors = cv.fit_transform(new_df[\"tags\"]).toarray()\n",
    "similarity = cosine_similarity(vectors)\n",
    "\n",
    "def recommend(movies):\n",
    "    movie_index = new_df[new_df.title == movies].index[0]\n",
    "    distances = similarity[movie_index]\n",
    "    all_movies_list = sorted(list(enumerate(distances)), reverse=True, key= lambda x:x[1])[1:6]\n",
    "    for i in all_movies_list:\n",
    "        print(new_df.iloc[i[0]].title)"
   ]
  },
  {
   "cell_type": "code",
   "execution_count": 8,
   "metadata": {
    "execution": {
     "iopub.execute_input": "2023-06-28T20:14:21.024583Z",
     "iopub.status.busy": "2023-06-28T20:14:21.023414Z",
     "iopub.status.idle": "2023-06-28T20:14:21.040833Z",
     "shell.execute_reply": "2023-06-28T20:14:21.039771Z",
     "shell.execute_reply.started": "2023-06-28T20:14:21.024543Z"
    },
    "ExecuteTime": {
     "end_time": "2023-07-04T09:40:48.262838Z",
     "start_time": "2023-07-04T09:40:48.254840100Z"
    }
   },
   "outputs": [
    {
     "name": "stdout",
     "output_type": "stream",
     "text": [
      "Anatomy of a Murder\n",
      "Find Me Guilty\n",
      "Marshall\n",
      "The Verdict\n",
      "A Time to Kill\n"
     ]
    }
   ],
   "source": [
    "recommend(\"12 Angry Men\")"
   ]
  },
  {
   "cell_type": "code",
   "execution_count": 9,
   "metadata": {
    "execution": {
     "iopub.execute_input": "2023-06-28T20:13:23.168120Z",
     "iopub.status.busy": "2023-06-28T20:13:23.167474Z",
     "iopub.status.idle": "2023-06-28T20:13:23.176717Z",
     "shell.execute_reply": "2023-06-28T20:13:23.175969Z",
     "shell.execute_reply.started": "2023-06-28T20:13:23.168086Z"
    },
    "ExecuteTime": {
     "end_time": "2023-07-04T09:40:48.735786500Z",
     "start_time": "2023-07-04T09:40:48.262838Z"
    }
   },
   "outputs": [],
   "source": [
    "import pickle\n",
    "pickle.dump(new_df, open(\"movies_model.pkl\", \"wb\"))\n",
    "pickle.dump(similarity, open(\"movies_similarity.pkl\", \"wb\"))"
   ]
  },
  {
   "cell_type": "code",
   "execution_count": 10,
   "metadata": {
    "execution": {
     "iopub.execute_input": "2023-06-28T20:13:24.404479Z",
     "iopub.status.busy": "2023-06-28T20:13:24.403939Z",
     "iopub.status.idle": "2023-06-28T20:13:24.417770Z",
     "shell.execute_reply": "2023-06-28T20:13:24.416370Z",
     "shell.execute_reply.started": "2023-06-28T20:13:24.404406Z"
    },
    "ExecuteTime": {
     "end_time": "2023-07-04T09:41:28.308303600Z",
     "start_time": "2023-07-04T09:40:48.738785800Z"
    }
   },
   "outputs": [
    {
     "name": "stdout",
     "output_type": "stream",
     "text": [
      "Movie Recommender\n",
      "Anatomy of a Murder\n",
      "https://image.tmdb.org/t/p/original/zMxLbSPpToTCc6yK2Gddhx6nHNN.jpg\n",
      "Find Me Guilty\n",
      "https://image.tmdb.org/t/p/original/8M0dkX7jOor7exKor1txoUl9Ynu.jpg\n",
      "Marshall\n",
      "https://image.tmdb.org/t/p/original/2KfdXsXTCbMie0wB1mSmIX60C2F.jpg\n",
      "The Verdict\n",
      "https://image.tmdb.org/t/p/original/iYEuFP1bpj5yOenKliiRFcNO3VE.jpg\n",
      "A Time to Kill\n",
      "https://image.tmdb.org/t/p/original/apUSR9WE7lMATBGYhzZ8RnPDYsK.jpg\n"
     ]
    }
   ],
   "source": [
    "movies_list = pickle.load(open(\"movies_model.pkl\", \"rb\"))\n",
    "movies_list_title = movies_list[\"title\"].values\n",
    "similarity = pickle.load(open(\"movies_similarity.pkl\", \"rb\"))\n",
    "\n",
    "def recommend(movie):\n",
    "    movie_index = movies_list[movies_list[\"title\"] == movie].index[0]\n",
    "    distances = similarity[movie_index]\n",
    "    sorted_movie_list = sorted(list(enumerate(distances)), reverse=True,\n",
    "                               key=lambda x: x[1])[1:6]\n",
    "    recommended_movies = []\n",
    "    recommended_posters = []\n",
    "    for i in sorted_movie_list:\n",
    "        poster_path = movies_list[\"poster_path\"][i[0]]\n",
    "        recommended_movies.append(movies_list.iloc[i[0]].title)\n",
    "        recommended_posters.append(\"https://image.tmdb.org/t/p/original\" + poster_path)\n",
    "    return recommended_movies, recommended_posters\n",
    "\n",
    "print(\"Movie Recommender\")\n",
    "selected_movie_name = input(\"What is the movie name?\")\n",
    "recommendation, movie_posters = recommend(selected_movie_name)\n",
    "\n",
    "for rec_movie, poster in zip(recommendation, movie_posters):\n",
    "    print(rec_movie)\n",
    "    print(poster)"
   ]
  }
 ],
 "metadata": {
  "kernelspec": {
   "display_name": "Python 3 (ipykernel)",
   "language": "python",
   "name": "python3"
  },
  "language_info": {
   "codemirror_mode": {
    "name": "ipython",
    "version": 3
   },
   "file_extension": ".py",
   "mimetype": "text/x-python",
   "name": "python",
   "nbconvert_exporter": "python",
   "pygments_lexer": "ipython3",
   "version": "3.11.3"
  }
 },
 "nbformat": 4,
 "nbformat_minor": 4
}
