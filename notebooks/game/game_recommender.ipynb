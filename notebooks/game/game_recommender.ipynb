{
 "cells": [
  {
   "cell_type": "code",
   "execution_count": null,
   "metadata": {
    "collapsed": true
   },
   "outputs": [],
   "source": [
    "import pandas as pd\n",
    "from io import StringIO\n",
    "from sklearn.preprocessing import MultiLabelBinarizer, MinMaxScaler\n",
    "from sklearn.model_selection import cross_val_score\n",
    "from sklearn.svm import NuSVR\n",
    "import pickle\n",
    "from datasets import load_dataset\n",
    "hf_data = load_dataset(\"wykonos/steam_games\")"
   ]
  },
  {
   "cell_type": "code",
   "execution_count": 2,
   "outputs": [
    {
     "data": {
      "text/plain": "Creating CSV from Arrow format:   0%|          | 0/64 [00:00<?, ?ba/s]",
      "application/vnd.jupyter.widget-view+json": {
       "version_major": 2,
       "version_minor": 0,
       "model_id": "b391fdec0186463bbbeec493d0120549"
      }
     },
     "metadata": {},
     "output_type": "display_data"
    },
    {
     "data": {
      "text/plain": "12060816"
     },
     "execution_count": 2,
     "metadata": {},
     "output_type": "execute_result"
    }
   ],
   "source": [
    "train_data = hf_data['train']\n",
    "train_data.to_csv('games_dataset.csv')"
   ],
   "metadata": {
    "collapsed": false,
    "ExecuteTime": {
     "end_time": "2023-07-04T09:46:03.900082500Z",
     "start_time": "2023-07-04T09:46:03.493120800Z"
    }
   }
  },
  {
   "cell_type": "code",
   "execution_count": 3,
   "outputs": [],
   "source": [
    "def predict_names_with_scores(included_column_names, one_hot_df, model, train_with_info):\n",
    "    if 'y' in included_column_names:\n",
    "        included_column_names.remove('y')\n",
    "    else:\n",
    "        print(\"'y' not found in included_column_names list\")\n",
    "        return\n",
    "\n",
    "    one_hot_df_trimmed = one_hot_df[included_column_names]\n",
    "    test_names = one_hot_df_trimmed['name']\n",
    "    test_X = one_hot_df_trimmed.drop('name', axis=1)\n",
    "    predictions = model.predict(test_X)\n",
    "    names_with_preds = list(zip(test_names, predictions))\n",
    "    names_with_preds = sorted(names_with_preds, key=lambda x: x[1], reverse=True)\n",
    "    for name, score in names_with_preds[:100]:\n",
    "        if name not in train_with_info.name.values:\n",
    "            print(f'{name} - {score}')"
   ],
   "metadata": {
    "collapsed": false,
    "ExecuteTime": {
     "end_time": "2023-07-04T09:46:03.903785600Z",
     "start_time": "2023-07-04T09:46:03.900082500Z"
    }
   }
  },
  {
   "cell_type": "code",
   "execution_count": 4,
   "outputs": [],
   "source": [
    "dataset = pd.read_csv('games_dataset.csv')\n",
    "pd.set_option('display.max_rows', 500)\n",
    "dataset = dataset.drop('metacritic_rating', axis=1)\n",
    "dataset['tags'] = dataset['tags'].str.split('|')"
   ],
   "metadata": {
    "collapsed": false,
    "ExecuteTime": {
     "end_time": "2023-07-04T09:46:04.172691700Z",
     "start_time": "2023-07-04T09:46:03.903785600Z"
    }
   }
  },
  {
   "cell_type": "code",
   "execution_count": 5,
   "outputs": [],
   "source": [
    "mlb = MultiLabelBinarizer()\n",
    "one_hot_df = dataset.join(pd.DataFrame(mlb.fit_transform(dataset.pop('tags')),\n",
    "                          columns=mlb.classes_,\n",
    "                          index=dataset.index))"
   ],
   "metadata": {
    "collapsed": false,
    "ExecuteTime": {
     "end_time": "2023-07-04T09:46:04.411701700Z",
     "start_time": "2023-07-04T09:46:04.174690Z"
    }
   }
  },
  {
   "cell_type": "code",
   "execution_count": 6,
   "outputs": [],
   "source": [
    "one_hot_df['reviewer_rating'].fillna(0, inplace=True)\n",
    "one_hot_df['reviewer_rating'] = one_hot_df['reviewer_rating'] / 10\n",
    "columns_to_scale = ['year', 'positivity_ratio', 'to_beat_main', 'to_beat_extra',\n",
    "                    'to_beat_completionist', 'extra_content_length']\n",
    "for column in columns_to_scale:\n",
    "    if column == 'positivity_ratio':\n",
    "        one_hot_df['positivity_ratio'].fillna(0, inplace=True)\n",
    "    else:\n",
    "        one_hot_df[column].fillna(one_hot_df[column].mean(), inplace=True)\n",
    "    one_hot_df[column] = MinMaxScaler().fit_transform(one_hot_df[[column]])"
   ],
   "metadata": {
    "collapsed": false,
    "ExecuteTime": {
     "end_time": "2023-07-04T09:46:04.431975200Z",
     "start_time": "2023-07-04T09:46:04.413699100Z"
    }
   }
  },
  {
   "cell_type": "code",
   "execution_count": 7,
   "outputs": [],
   "source": [
    "SAMPLE_TEST_SET = \"\"\"\n",
    "name;y\n",
    "Adam Wolfe;7\n",
    "Alan Wake;8\n",
    "Alpha Protocol™;9\n",
    "Assassin's Creed 2;7\n",
    "Assassin's Creed™: Director's Cut Edition;7\n",
    "Back to the Future: Ep 2 - Get Tannen!;8\n",
    "Back to the Future: Ep 3 - Citizen Brown;8\n",
    "Bastion;9\n",
    "Batman: Arkham Asylum Game of the Year Edition;7\n",
    "Batman: Arkham City - Game of the Year Edition;7\n",
    "Batman: Arkham City;7\n",
    "BioShock™ Infinite;7\n",
    "Black Mesa;7\n",
    "Borderlands 2;7\n",
    "\"\"\"\n",
    "train_raw = pd.read_csv(StringIO(SAMPLE_TEST_SET), sep=';')\n",
    "train_with_info = pd.merge(one_hot_df, train_raw, on='name').drop('id', axis=1)"
   ],
   "metadata": {
    "collapsed": false,
    "ExecuteTime": {
     "end_time": "2023-07-04T09:46:04.453323Z",
     "start_time": "2023-07-04T09:46:04.431975200Z"
    }
   }
  },
  {
   "cell_type": "code",
   "execution_count": 8,
   "outputs": [],
   "source": [
    "fixed_column_names = ['name', 'year', 'reviewer_rating', 'positivity_ratio',\n",
    "                      'to_beat_main', 'to_beat_extra', 'to_beat_completionist',\n",
    "                      'extra_content_length', 'y']\n",
    "feature_cutoff = 0\n",
    "column_stats = train_with_info.drop(fixed_column_names, axis=1).sum(axis=0)[1:].sort_values()\n",
    "\n",
    "while feature_cutoff < len(train_with_info):\n",
    "    good_columns = column_stats[column_stats >= feature_cutoff]\n",
    "    if len(good_columns) + len(fixed_column_names) < len(train_with_info):\n",
    "        included_column_names = list(good_columns.index)\n",
    "        break\n",
    "    else:\n",
    "        feature_cutoff += 1\n",
    "\n",
    "for (i, column) in enumerate(fixed_column_names):\n",
    "    if column == 'y':\n",
    "        continue\n",
    "    included_column_names.insert(i, column)\n",
    "included_column_names.append('y')\n",
    "train_with_good_features = train_with_info[included_column_names]"
   ],
   "metadata": {
    "collapsed": false,
    "ExecuteTime": {
     "end_time": "2023-07-04T09:46:04.457347900Z",
     "start_time": "2023-07-04T09:46:04.451323Z"
    }
   }
  },
  {
   "cell_type": "code",
   "execution_count": 9,
   "outputs": [],
   "source": [
    "names = train_with_good_features['name']\n",
    "y = train_with_good_features['y']\n",
    "X = train_with_good_features.drop('name', axis=1).drop('y', axis=1)"
   ],
   "metadata": {
    "collapsed": false,
    "ExecuteTime": {
     "end_time": "2023-07-04T09:46:04.462679500Z",
     "start_time": "2023-07-04T09:46:04.458349800Z"
    }
   }
  },
  {
   "cell_type": "code",
   "execution_count": 10,
   "outputs": [
    {
     "name": "stdout",
     "output_type": "stream",
     "text": [
      "Cross Validation Accuracy: -0.7802676585511182\n"
     ]
    }
   ],
   "source": [
    "model = NuSVR(kernel='poly', degree=6)\n",
    "model.fit(X, y)\n",
    "accuracies = cross_val_score(model, X, y=y)\n",
    "print(\"Cross Validation Accuracy:\", sum(accuracies) / len(accuracies))"
   ],
   "metadata": {
    "collapsed": false,
    "ExecuteTime": {
     "end_time": "2023-07-04T09:46:04.485705600Z",
     "start_time": "2023-07-04T09:46:04.463678100Z"
    }
   }
  },
  {
   "cell_type": "code",
   "execution_count": 11,
   "outputs": [],
   "source": [
    "pickle.dump(model, open('game_model.pkl', 'wb'))"
   ],
   "metadata": {
    "collapsed": false,
    "ExecuteTime": {
     "end_time": "2023-07-04T09:46:04.518670600Z",
     "start_time": "2023-07-04T09:46:04.486709400Z"
    }
   }
  },
  {
   "cell_type": "code",
   "execution_count": 12,
   "outputs": [
    {
     "name": "stdout",
     "output_type": "stream",
     "text": [
      "Vertigo 2 - 8.220637687565002\n",
      "Resident Evil 4 - 8.217496074596419\n",
      "Touhou Hero of Ice Fairy - 8.216948632830395\n",
      "Hi-Fi RUSH - 8.216556942661313\n",
      "Pizza Tower - 8.211803043107487\n",
      "Ember Knights - 8.199379083754081\n",
      "Slime Rancher 2 - 8.199256320530814\n",
      "PAC-MAN WORLD Re-PAC - 8.198757462686139\n",
      "Nightmare of Decay - 8.198591765914102\n",
      "Flatworld - 8.197771681012128\n",
      "Supraland Six Inches Under - 8.197310572425096\n",
      "Klonoa Phantasy Reverie Series - 8.196850556502675\n",
      "Dungeon Munchies - 8.196539023228283\n",
      "Bugsnax - 8.194938283335588\n",
      "Will You Snail? - 8.194567039540722\n",
      "Neon White - 8.191415589866764\n",
      "The Upturned - 8.178306394679616\n",
      "Paint the Town Red - 8.176170186649244\n",
      "Touhou Endless Dream - 8.176084971969232\n",
      "Everhood - 8.175910581202473\n",
      "Ancient Dungeon - 8.175367395605377\n",
      "ElecHead - 8.17306561225081\n",
      "Rain on Your Parade - 8.172821631303151\n",
      "Tree Simulator 2022 - 8.172603382356101\n",
      "Psychonauts 2 - 8.172046669529898\n",
      "Totally Accurate Battle Simulator - 8.171261304039234\n",
      "Rhythm Doctor - 8.169212158547886\n",
      "Elderand - 8.166642978549142\n",
      "Vernal Edge - 8.166363363612653\n",
      "Protodroid DeLTA - 8.16634321552376\n",
      "The Elder Scrolls Online: Necrom - 8.166309376176272\n",
      "Ghostlore - 8.166295664285656\n",
      "Nocturnal - 8.166279032922716\n",
      "Skinny & Franko: Fists of Violence - 8.166197156527197\n",
      "The Mageseeker: A League of Legends Story™ - 8.166123946288415\n",
      "Pixel Survivors : Roguelike - 8.16596842549199\n",
      "Clunky Hero - 8.165859072831715\n",
      "Troublemaker - 8.165840347011176\n",
      "Bum Simulator - 8.16579690980447\n",
      "Amnesia: The Bunker - 8.16567482418813\n",
      "LOST EGG 3: The Final - 8.16565331688706\n",
      "Shieldwall - 8.165652105312006\n",
      "Filthy Animals | Heist Simulator - 8.165629342778374\n",
      "Rogue Spirit - 8.165583882068233\n",
      "Underworld Island - 8.165583022094438\n",
      "Gal Guardians: Demon Purge - 8.165580937635234\n",
      "Playcraft - 8.165572674444498\n",
      "Infinite Tao - 8.165572427503562\n",
      "Return to abyss 重返深渊 - 8.165528128094827\n",
      "Chicken Fall - 8.16548435708794\n",
      "GunSoul Girl 2 - 8.165361603340301\n",
      "Eternal Dread 3 - 8.16532630377963\n",
      "illWill - 8.165196106805446\n",
      "Diary of Lucie - 8.1651765634804\n",
      "RUSLICSTAN INVADES - 8.165128902856715\n",
      "Super Bunny Man - 8.165115428911818\n",
      "Evil Wizard - 8.165036532126841\n",
      "Psionic Awake - 8.164999794707171\n",
      "SpongeBob SquarePants: The Cosmic Shake - 8.16496142255724\n",
      "CONVERGENCE: A League of Legends Story™ - 8.164933211981669\n",
      "The Excrawlers - 8.16489664464568\n",
      "DARK NIGHT WITH FLOPPA - 8.164871561717007\n",
      "Nyaruru Fishy Fight - 8.164793196802265\n",
      "Juno: New Origins - 8.16467796440076\n",
      "Jianghu Survivor - 8.164646449773898\n",
      "Castle Of Alchemists - 8.164577160296432\n",
      "Nucleares - 8.164550922880586\n",
      "Noobs Want to Live - 8.16433187659434\n",
      "Soul Survivors - 8.164209967204968\n",
      "Super Dungeon Maker - 8.164182137054496\n",
      "Warman - 8.164039948506897\n",
      "Cultivation Story: Reincarnation - 8.163987167904416\n",
      "Ogu and the Secret Forest - 8.163948367151562\n",
      "Tiny Thor - 8.163646950054236\n",
      "Street Fighter™ 6 - 8.163484515424848\n",
      "Bat Boy - 8.163385761780063\n",
      "Temple Of Snek - 8.163217163545525\n",
      "Zombie Soup - 8.162913255193516\n",
      "Moons Of Darsalon - 8.162533998761695\n",
      "Attack on Titan 2 - A.O.T.2 - 8.161955602093641\n",
      "DIG - Deep In Galaxies - 8.161853099716737\n",
      "It Comes In Waves - 8.161583769884182\n",
      "Like a Dragon: Ishin! - 8.161240798775644\n",
      "Unbreakable Vr Runner - 8.161219640369254\n",
      "ENTROPOLY - 8.160732255811979\n",
      "Planet Cube: Edge - 8.160294146523476\n",
      "Digimon World: Next Order - 8.158750036102077\n",
      "CARNAGE OFFERING TD - 8.158660998091392\n",
      "Fallen Hero: Retribution - 8.157230733557363\n",
      "CANINE - 8.154644450589906\n",
      "Zortch - 8.154524806158868\n",
      "Untitled Goose Game - 8.153848184742536\n",
      "High Entropy: Challenges - 8.15378379918625\n",
      "Island Saver - 8.153214537844384\n",
      "Besiege - 8.15301147071532\n",
      "Half-Life: Alyx - Final Hours - 8.152993586864383\n",
      "Kingdom Rush Vengeance - Tower Defense - 8.152529114726512\n",
      "I Wanna Maker - 8.152355060735928\n",
      "Shotgun Witch - 8.152296045612133\n",
      "There Is No Game: Wrong Dimension - 8.149402436891407\n"
     ]
    }
   ],
   "source": [
    "game_model = pickle.load(open('game_model.pkl', 'rb'))\n",
    "predict_names_with_scores(included_column_names, one_hot_df, game_model, train_with_info)"
   ],
   "metadata": {
    "collapsed": false,
    "ExecuteTime": {
     "end_time": "2023-07-04T09:46:04.601687700Z",
     "start_time": "2023-07-04T09:46:04.488670200Z"
    }
   }
  }
 ],
 "metadata": {
  "kernelspec": {
   "display_name": "Python 3",
   "language": "python",
   "name": "python3"
  },
  "language_info": {
   "codemirror_mode": {
    "name": "ipython",
    "version": 2
   },
   "file_extension": ".py",
   "mimetype": "text/x-python",
   "name": "python",
   "nbconvert_exporter": "python",
   "pygments_lexer": "ipython2",
   "version": "2.7.6"
  }
 },
 "nbformat": 4,
 "nbformat_minor": 0
}
