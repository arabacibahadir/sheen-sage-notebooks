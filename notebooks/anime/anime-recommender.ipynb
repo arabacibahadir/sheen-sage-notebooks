{
 "metadata": {
  "kernelspec": {
   "language": "python",
   "display_name": "Python 3",
   "name": "python3"
  },
  "language_info": {
   "pygments_lexer": "ipython3",
   "nbconvert_exporter": "python",
   "version": "3.6.4",
   "file_extension": ".py",
   "codemirror_mode": {
    "name": "ipython",
    "version": 3
   },
   "name": "python",
   "mimetype": "text/x-python"
  }
 },
 "nbformat_minor": 4,
 "nbformat": 4,
 "cells": [
  {
   "cell_type": "code",
   "source": [
    "import pandas as pd\n",
    "import warnings\n",
    "warnings.filterwarnings('ignore')\n",
    "from datasets import load_dataset\n",
    "hf_data = load_dataset(\"wykonos/anime\")\n",
    "train_data = hf_data['train']"
   ],
   "metadata": {
    "execution": {
     "iopub.status.busy": "2022-08-29T22:53:04.397961Z",
     "iopub.execute_input": "2022-08-29T22:53:04.398533Z",
     "iopub.status.idle": "2022-08-29T22:53:04.916933Z",
     "shell.execute_reply.started": "2022-08-29T22:53:04.398488Z",
     "shell.execute_reply": "2022-08-29T22:53:04.915672Z"
    },
    "trusted": true
   },
   "execution_count": null,
   "outputs": []
  },
  {
   "cell_type": "code",
   "execution_count": null,
   "outputs": [],
   "source": [
    "train_data.to_csv('anime_dataset.csv')\n",
    "data_m = pd.read_csv(\"anime_dataset.csv\")"
   ],
   "metadata": {
    "collapsed": false
   }
  },
  {
   "cell_type": "code",
   "execution_count": null,
   "outputs": [],
   "source": [
    "data_m.info()\n",
    "data_m.head()\n",
    "data_m.tail()"
   ],
   "metadata": {
    "collapsed": false
   }
  },
  {
   "cell_type": "code",
   "source": [
    "data_m = data_m[[\"Rank\", \"Name\", \"Type\", \"Tags\", \"Description\", \"staff\"]]\n",
    "data_m.duplicated().sum()\n",
    "data_m.isnull().sum()\n",
    "data_m[\"Type\"].value_counts()"
   ],
   "metadata": {
    "execution": {
     "iopub.status.busy": "2022-08-29T22:53:05.108247Z",
     "iopub.execute_input": "2022-08-29T22:53:05.10861Z",
     "iopub.status.idle": "2022-08-29T22:53:05.125362Z",
     "shell.execute_reply.started": "2022-08-29T22:53:05.108579Z",
     "shell.execute_reply": "2022-08-29T22:53:05.124365Z"
    },
    "trusted": true,
    "ExecuteTime": {
     "end_time": "2023-07-04T10:22:18.713196300Z",
     "start_time": "2023-07-04T10:22:18.695179100Z"
    }
   },
   "execution_count": 2,
   "outputs": [
    {
     "data": {
      "text/plain": "Type\nTV       5446\nMovie    3577\nWeb      2488\nOVA      2235\nMusic    2165\nOther     990\nDVD S     911\nTV Sp     683\nName: count, dtype: int64"
     },
     "execution_count": 2,
     "metadata": {},
     "output_type": "execute_result"
    }
   ]
  },
  {
   "cell_type": "code",
   "source": [
    "data_m[data_m[\"Type\"] == \"TV   \"]"
   ],
   "metadata": {
    "execution": {
     "iopub.status.busy": "2022-08-29T22:53:05.197941Z",
     "iopub.execute_input": "2022-08-29T22:53:05.198258Z",
     "iopub.status.idle": "2022-08-29T22:53:05.22634Z",
     "shell.execute_reply.started": "2022-08-29T22:53:05.198229Z",
     "shell.execute_reply": "2022-08-29T22:53:05.225205Z"
    },
    "trusted": true,
    "ExecuteTime": {
     "end_time": "2023-07-04T10:22:18.752446Z",
     "start_time": "2023-07-04T10:22:18.714197200Z"
    }
   },
   "execution_count": 3,
   "outputs": [
    {
     "data": {
      "text/plain": "        Rank                                               Name   Type  \\\n0          1  Demon Slayer: Kimetsu no Yaiba - Entertainment...  TV      \n1          2                     Fruits Basket the Final Season  TV      \n3          4                   Fullmetal Alchemist: Brotherhood  TV      \n4          5                Attack on Titan 3rd Season: Part II  TV      \n5          6                                     Jujutsu Kaisen  TV      \n...      ...                                                ...    ...   \n18481  18482                                    Goblin Slayer 2  TV      \n18488  18489        Shachiku-san wa Youjo Yuurei ni Iyasaretai.  TV      \n18491  18492                      Yi Tang Juchang: Sanguo Yanyi  TV      \n18492  18493          Fenghuang Ji Xiang Yu Qingming Shanghe Tu  TV      \n18493  18494                      Chengshi Jiyi Wo Men de Jieri  TV      \n\n                                                    Tags  \\\n0      Action, Adventure, Fantasy, Shounen, Demons, H...   \n1      Drama, Fantasy, Romance, Shoujo, Animal Transf...   \n3      Action, Adventure, Drama, Fantasy, Mystery, Sh...   \n4      Action, Fantasy, Horror, Shounen, Dark Fantasy...   \n5      Action, Horror, Shounen, Curse, Exorcists, Mon...   \n...                                                  ...   \n18481  Action, Adventure, Fantasy, Seinen, Dark Fanta...   \n18488  Comedy, Slice of Life, Ghosts, Iyashikei, Non-...   \n18491                                  Chinese Animation   \n18492  Chinese Animation, Family Friendly, Short Epis...   \n18493  Chinese Animation, Family Friendly, Short Epis...   \n\n                                             Description  \\\n0      'Tanjiro and his friends accompany the Hashira...   \n1                      'The final arc of Fruits Basket.'   \n3      \"The foundation of alchemy is based on the law...   \n4      'The battle to retake Wall Maria begins now! W...   \n5      'Although Yuji Itadori looks like your average...   \n...                                                  ...   \n18481  It's fall, and the village's harvest festival ...   \n18488  The story follows the daily life of Fushihara,...   \n18491                 No synopsis yet - check back soon!   \n18492                 No synopsis yet - check back soon!   \n18493                 No synopsis yet - check back soon!   \n\n                                                   staff  \n0      Koyoharu Gotouge : Original Creator, Haruo Sot...  \n1      Natsuki Takaya : Original Creator, Yoshihide I...  \n3      Hiromu Arakawa : Original Creator, Yasuhiro Ir...  \n4      Hajime Isayama : Original Creator, Tetsurou Ar...  \n5      Gege Akutami : Original Creator, Seong-Hu Park...  \n...                                                  ...  \n18481                      Kumo Kagyu : Original Creator  \n18488                     Imari Arita : Original Creator  \n18491                                                NaN  \n18492                                                NaN  \n18493                                                NaN  \n\n[5446 rows x 6 columns]",
      "text/html": "<div>\n<style scoped>\n    .dataframe tbody tr th:only-of-type {\n        vertical-align: middle;\n    }\n\n    .dataframe tbody tr th {\n        vertical-align: top;\n    }\n\n    .dataframe thead th {\n        text-align: right;\n    }\n</style>\n<table border=\"1\" class=\"dataframe\">\n  <thead>\n    <tr style=\"text-align: right;\">\n      <th></th>\n      <th>Rank</th>\n      <th>Name</th>\n      <th>Type</th>\n      <th>Tags</th>\n      <th>Description</th>\n      <th>staff</th>\n    </tr>\n  </thead>\n  <tbody>\n    <tr>\n      <th>0</th>\n      <td>1</td>\n      <td>Demon Slayer: Kimetsu no Yaiba - Entertainment...</td>\n      <td>TV</td>\n      <td>Action, Adventure, Fantasy, Shounen, Demons, H...</td>\n      <td>'Tanjiro and his friends accompany the Hashira...</td>\n      <td>Koyoharu Gotouge : Original Creator, Haruo Sot...</td>\n    </tr>\n    <tr>\n      <th>1</th>\n      <td>2</td>\n      <td>Fruits Basket the Final Season</td>\n      <td>TV</td>\n      <td>Drama, Fantasy, Romance, Shoujo, Animal Transf...</td>\n      <td>'The final arc of Fruits Basket.'</td>\n      <td>Natsuki Takaya : Original Creator, Yoshihide I...</td>\n    </tr>\n    <tr>\n      <th>3</th>\n      <td>4</td>\n      <td>Fullmetal Alchemist: Brotherhood</td>\n      <td>TV</td>\n      <td>Action, Adventure, Drama, Fantasy, Mystery, Sh...</td>\n      <td>\"The foundation of alchemy is based on the law...</td>\n      <td>Hiromu Arakawa : Original Creator, Yasuhiro Ir...</td>\n    </tr>\n    <tr>\n      <th>4</th>\n      <td>5</td>\n      <td>Attack on Titan 3rd Season: Part II</td>\n      <td>TV</td>\n      <td>Action, Fantasy, Horror, Shounen, Dark Fantasy...</td>\n      <td>'The battle to retake Wall Maria begins now! W...</td>\n      <td>Hajime Isayama : Original Creator, Tetsurou Ar...</td>\n    </tr>\n    <tr>\n      <th>5</th>\n      <td>6</td>\n      <td>Jujutsu Kaisen</td>\n      <td>TV</td>\n      <td>Action, Horror, Shounen, Curse, Exorcists, Mon...</td>\n      <td>'Although Yuji Itadori looks like your average...</td>\n      <td>Gege Akutami : Original Creator, Seong-Hu Park...</td>\n    </tr>\n    <tr>\n      <th>...</th>\n      <td>...</td>\n      <td>...</td>\n      <td>...</td>\n      <td>...</td>\n      <td>...</td>\n      <td>...</td>\n    </tr>\n    <tr>\n      <th>18481</th>\n      <td>18482</td>\n      <td>Goblin Slayer 2</td>\n      <td>TV</td>\n      <td>Action, Adventure, Fantasy, Seinen, Dark Fanta...</td>\n      <td>It's fall, and the village's harvest festival ...</td>\n      <td>Kumo Kagyu : Original Creator</td>\n    </tr>\n    <tr>\n      <th>18488</th>\n      <td>18489</td>\n      <td>Shachiku-san wa Youjo Yuurei ni Iyasaretai.</td>\n      <td>TV</td>\n      <td>Comedy, Slice of Life, Ghosts, Iyashikei, Non-...</td>\n      <td>The story follows the daily life of Fushihara,...</td>\n      <td>Imari Arita : Original Creator</td>\n    </tr>\n    <tr>\n      <th>18491</th>\n      <td>18492</td>\n      <td>Yi Tang Juchang: Sanguo Yanyi</td>\n      <td>TV</td>\n      <td>Chinese Animation</td>\n      <td>No synopsis yet - check back soon!</td>\n      <td>NaN</td>\n    </tr>\n    <tr>\n      <th>18492</th>\n      <td>18493</td>\n      <td>Fenghuang Ji Xiang Yu Qingming Shanghe Tu</td>\n      <td>TV</td>\n      <td>Chinese Animation, Family Friendly, Short Epis...</td>\n      <td>No synopsis yet - check back soon!</td>\n      <td>NaN</td>\n    </tr>\n    <tr>\n      <th>18493</th>\n      <td>18494</td>\n      <td>Chengshi Jiyi Wo Men de Jieri</td>\n      <td>TV</td>\n      <td>Chinese Animation, Family Friendly, Short Epis...</td>\n      <td>No synopsis yet - check back soon!</td>\n      <td>NaN</td>\n    </tr>\n  </tbody>\n</table>\n<p>5446 rows × 6 columns</p>\n</div>"
     },
     "execution_count": 3,
     "metadata": {},
     "output_type": "execute_result"
    }
   ]
  },
  {
   "cell_type": "code",
   "execution_count": 4,
   "outputs": [],
   "source": [
    "temp = data_m[\"Type\"].apply(lambda x: [\" \".join(x.split()) for _ in x])"
   ],
   "metadata": {
    "collapsed": false,
    "ExecuteTime": {
     "end_time": "2023-07-04T10:22:18.776737800Z",
     "start_time": "2023-07-04T10:22:18.725173300Z"
    }
   }
  },
  {
   "cell_type": "code",
   "source": [
    "data_m[\"Type\"] = pd.Series([type_input[0] for type_input in temp])\n",
    "data_m[data_m[\"Type\"] == \"TV\"]"
   ],
   "metadata": {
    "execution": {
     "iopub.status.busy": "2022-08-29T22:53:05.285762Z",
     "iopub.execute_input": "2022-08-29T22:53:05.286283Z",
     "iopub.status.idle": "2022-08-29T22:53:05.307279Z",
     "shell.execute_reply.started": "2022-08-29T22:53:05.28625Z",
     "shell.execute_reply": "2022-08-29T22:53:05.306409Z"
    },
    "trusted": true,
    "ExecuteTime": {
     "end_time": "2023-07-04T10:22:18.794982600Z",
     "start_time": "2023-07-04T10:22:18.745444900Z"
    }
   },
   "execution_count": 5,
   "outputs": [
    {
     "data": {
      "text/plain": "        Rank                                               Name Type  \\\n0          1  Demon Slayer: Kimetsu no Yaiba - Entertainment...   TV   \n1          2                     Fruits Basket the Final Season   TV   \n3          4                   Fullmetal Alchemist: Brotherhood   TV   \n4          5                Attack on Titan 3rd Season: Part II   TV   \n5          6                                     Jujutsu Kaisen   TV   \n...      ...                                                ...  ...   \n18481  18482                                    Goblin Slayer 2   TV   \n18488  18489        Shachiku-san wa Youjo Yuurei ni Iyasaretai.   TV   \n18491  18492                      Yi Tang Juchang: Sanguo Yanyi   TV   \n18492  18493          Fenghuang Ji Xiang Yu Qingming Shanghe Tu   TV   \n18493  18494                      Chengshi Jiyi Wo Men de Jieri   TV   \n\n                                                    Tags  \\\n0      Action, Adventure, Fantasy, Shounen, Demons, H...   \n1      Drama, Fantasy, Romance, Shoujo, Animal Transf...   \n3      Action, Adventure, Drama, Fantasy, Mystery, Sh...   \n4      Action, Fantasy, Horror, Shounen, Dark Fantasy...   \n5      Action, Horror, Shounen, Curse, Exorcists, Mon...   \n...                                                  ...   \n18481  Action, Adventure, Fantasy, Seinen, Dark Fanta...   \n18488  Comedy, Slice of Life, Ghosts, Iyashikei, Non-...   \n18491                                  Chinese Animation   \n18492  Chinese Animation, Family Friendly, Short Epis...   \n18493  Chinese Animation, Family Friendly, Short Epis...   \n\n                                             Description  \\\n0      'Tanjiro and his friends accompany the Hashira...   \n1                      'The final arc of Fruits Basket.'   \n3      \"The foundation of alchemy is based on the law...   \n4      'The battle to retake Wall Maria begins now! W...   \n5      'Although Yuji Itadori looks like your average...   \n...                                                  ...   \n18481  It's fall, and the village's harvest festival ...   \n18488  The story follows the daily life of Fushihara,...   \n18491                 No synopsis yet - check back soon!   \n18492                 No synopsis yet - check back soon!   \n18493                 No synopsis yet - check back soon!   \n\n                                                   staff  \n0      Koyoharu Gotouge : Original Creator, Haruo Sot...  \n1      Natsuki Takaya : Original Creator, Yoshihide I...  \n3      Hiromu Arakawa : Original Creator, Yasuhiro Ir...  \n4      Hajime Isayama : Original Creator, Tetsurou Ar...  \n5      Gege Akutami : Original Creator, Seong-Hu Park...  \n...                                                  ...  \n18481                      Kumo Kagyu : Original Creator  \n18488                     Imari Arita : Original Creator  \n18491                                                NaN  \n18492                                                NaN  \n18493                                                NaN  \n\n[5446 rows x 6 columns]",
      "text/html": "<div>\n<style scoped>\n    .dataframe tbody tr th:only-of-type {\n        vertical-align: middle;\n    }\n\n    .dataframe tbody tr th {\n        vertical-align: top;\n    }\n\n    .dataframe thead th {\n        text-align: right;\n    }\n</style>\n<table border=\"1\" class=\"dataframe\">\n  <thead>\n    <tr style=\"text-align: right;\">\n      <th></th>\n      <th>Rank</th>\n      <th>Name</th>\n      <th>Type</th>\n      <th>Tags</th>\n      <th>Description</th>\n      <th>staff</th>\n    </tr>\n  </thead>\n  <tbody>\n    <tr>\n      <th>0</th>\n      <td>1</td>\n      <td>Demon Slayer: Kimetsu no Yaiba - Entertainment...</td>\n      <td>TV</td>\n      <td>Action, Adventure, Fantasy, Shounen, Demons, H...</td>\n      <td>'Tanjiro and his friends accompany the Hashira...</td>\n      <td>Koyoharu Gotouge : Original Creator, Haruo Sot...</td>\n    </tr>\n    <tr>\n      <th>1</th>\n      <td>2</td>\n      <td>Fruits Basket the Final Season</td>\n      <td>TV</td>\n      <td>Drama, Fantasy, Romance, Shoujo, Animal Transf...</td>\n      <td>'The final arc of Fruits Basket.'</td>\n      <td>Natsuki Takaya : Original Creator, Yoshihide I...</td>\n    </tr>\n    <tr>\n      <th>3</th>\n      <td>4</td>\n      <td>Fullmetal Alchemist: Brotherhood</td>\n      <td>TV</td>\n      <td>Action, Adventure, Drama, Fantasy, Mystery, Sh...</td>\n      <td>\"The foundation of alchemy is based on the law...</td>\n      <td>Hiromu Arakawa : Original Creator, Yasuhiro Ir...</td>\n    </tr>\n    <tr>\n      <th>4</th>\n      <td>5</td>\n      <td>Attack on Titan 3rd Season: Part II</td>\n      <td>TV</td>\n      <td>Action, Fantasy, Horror, Shounen, Dark Fantasy...</td>\n      <td>'The battle to retake Wall Maria begins now! W...</td>\n      <td>Hajime Isayama : Original Creator, Tetsurou Ar...</td>\n    </tr>\n    <tr>\n      <th>5</th>\n      <td>6</td>\n      <td>Jujutsu Kaisen</td>\n      <td>TV</td>\n      <td>Action, Horror, Shounen, Curse, Exorcists, Mon...</td>\n      <td>'Although Yuji Itadori looks like your average...</td>\n      <td>Gege Akutami : Original Creator, Seong-Hu Park...</td>\n    </tr>\n    <tr>\n      <th>...</th>\n      <td>...</td>\n      <td>...</td>\n      <td>...</td>\n      <td>...</td>\n      <td>...</td>\n      <td>...</td>\n    </tr>\n    <tr>\n      <th>18481</th>\n      <td>18482</td>\n      <td>Goblin Slayer 2</td>\n      <td>TV</td>\n      <td>Action, Adventure, Fantasy, Seinen, Dark Fanta...</td>\n      <td>It's fall, and the village's harvest festival ...</td>\n      <td>Kumo Kagyu : Original Creator</td>\n    </tr>\n    <tr>\n      <th>18488</th>\n      <td>18489</td>\n      <td>Shachiku-san wa Youjo Yuurei ni Iyasaretai.</td>\n      <td>TV</td>\n      <td>Comedy, Slice of Life, Ghosts, Iyashikei, Non-...</td>\n      <td>The story follows the daily life of Fushihara,...</td>\n      <td>Imari Arita : Original Creator</td>\n    </tr>\n    <tr>\n      <th>18491</th>\n      <td>18492</td>\n      <td>Yi Tang Juchang: Sanguo Yanyi</td>\n      <td>TV</td>\n      <td>Chinese Animation</td>\n      <td>No synopsis yet - check back soon!</td>\n      <td>NaN</td>\n    </tr>\n    <tr>\n      <th>18492</th>\n      <td>18493</td>\n      <td>Fenghuang Ji Xiang Yu Qingming Shanghe Tu</td>\n      <td>TV</td>\n      <td>Chinese Animation, Family Friendly, Short Epis...</td>\n      <td>No synopsis yet - check back soon!</td>\n      <td>NaN</td>\n    </tr>\n    <tr>\n      <th>18493</th>\n      <td>18494</td>\n      <td>Chengshi Jiyi Wo Men de Jieri</td>\n      <td>TV</td>\n      <td>Chinese Animation, Family Friendly, Short Epis...</td>\n      <td>No synopsis yet - check back soon!</td>\n      <td>NaN</td>\n    </tr>\n  </tbody>\n</table>\n<p>5446 rows × 6 columns</p>\n</div>"
     },
     "execution_count": 5,
     "metadata": {},
     "output_type": "execute_result"
    }
   ]
  },
  {
   "cell_type": "code",
   "source": [
    "filtering_1 = data_m[(data_m[\"Description\"] == \"'No synopsis yet - check back soon!'\") & (data_m[\"Tags\"].isnull())].index\n",
    "data_m = data_m.drop(filtering_1)"
   ],
   "metadata": {
    "execution": {
     "iopub.status.busy": "2022-08-29T22:53:05.333893Z",
     "iopub.execute_input": "2022-08-29T22:53:05.334295Z",
     "iopub.status.idle": "2022-08-29T22:53:05.351226Z",
     "shell.execute_reply.started": "2022-08-29T22:53:05.334237Z",
     "shell.execute_reply": "2022-08-29T22:53:05.349842Z"
    },
    "trusted": true,
    "ExecuteTime": {
     "end_time": "2023-07-04T10:22:18.823042800Z",
     "start_time": "2023-07-04T10:22:18.757711400Z"
    }
   },
   "execution_count": 6,
   "outputs": []
  },
  {
   "cell_type": "code",
   "source": [
    "data_m.isnull().sum()"
   ],
   "metadata": {
    "execution": {
     "iopub.status.busy": "2022-08-29T22:53:05.352885Z",
     "iopub.execute_input": "2022-08-29T22:53:05.353242Z",
     "iopub.status.idle": "2022-08-29T22:53:05.375706Z",
     "shell.execute_reply.started": "2022-08-29T22:53:05.353209Z",
     "shell.execute_reply": "2022-08-29T22:53:05.374169Z"
    },
    "trusted": true,
    "ExecuteTime": {
     "end_time": "2023-07-04T10:22:18.831557200Z",
     "start_time": "2023-07-04T10:22:18.767710100Z"
    }
   },
   "execution_count": 7,
   "outputs": [
    {
     "data": {
      "text/plain": "Rank              0\nName              0\nType              0\nTags            267\nDescription       4\nstaff          5451\ndtype: int64"
     },
     "execution_count": 7,
     "metadata": {},
     "output_type": "execute_result"
    }
   ]
  },
  {
   "cell_type": "code",
   "source": [
    "filtering_2 = data_m[(data_m[\"Type\"] == \"Music\") | (data_m[\"Type\"] == \"OVA\") | (data_m[\"Type\"] == \"TV Sp\")].index\n",
    "data_m.drop(filtering_2,inplace = True)"
   ],
   "metadata": {
    "execution": {
     "iopub.status.busy": "2022-08-29T22:53:05.378767Z",
     "iopub.execute_input": "2022-08-29T22:53:05.379595Z",
     "iopub.status.idle": "2022-08-29T22:53:05.405345Z",
     "shell.execute_reply.started": "2022-08-29T22:53:05.379544Z",
     "shell.execute_reply": "2022-08-29T22:53:05.404077Z"
    },
    "trusted": true,
    "ExecuteTime": {
     "end_time": "2023-07-04T10:22:18.852177300Z",
     "start_time": "2023-07-04T10:22:18.776737800Z"
    }
   },
   "execution_count": 8,
   "outputs": []
  },
  {
   "cell_type": "code",
   "source": [
    "data_m.isnull().sum()"
   ],
   "metadata": {
    "execution": {
     "iopub.status.busy": "2022-08-29T22:53:05.407072Z",
     "iopub.execute_input": "2022-08-29T22:53:05.40783Z",
     "iopub.status.idle": "2022-08-29T22:53:05.428191Z",
     "shell.execute_reply.started": "2022-08-29T22:53:05.407782Z",
     "shell.execute_reply": "2022-08-29T22:53:05.426719Z"
    },
    "trusted": true,
    "ExecuteTime": {
     "end_time": "2023-07-04T10:22:18.853177500Z",
     "start_time": "2023-07-04T10:22:18.793982800Z"
    }
   },
   "execution_count": 9,
   "outputs": [
    {
     "data": {
      "text/plain": "Rank              0\nName              0\nType              0\nTags             31\nDescription       4\nstaff          4322\ndtype: int64"
     },
     "execution_count": 9,
     "metadata": {},
     "output_type": "execute_result"
    }
   ]
  },
  {
   "cell_type": "code",
   "source": [
    "filtering_3 = data_m[(data_m[\"Description\"] == \"No synopsis yet - check back soon!\") & (data_m[\"Tags\"].isnull())].index\n",
    "data_m.drop(filtering_3,inplace=True)"
   ],
   "metadata": {
    "execution": {
     "iopub.status.busy": "2022-08-29T22:53:05.430208Z",
     "iopub.execute_input": "2022-08-29T22:53:05.431294Z",
     "iopub.status.idle": "2022-08-29T22:53:05.448257Z",
     "shell.execute_reply.started": "2022-08-29T22:53:05.431241Z",
     "shell.execute_reply": "2022-08-29T22:53:05.446673Z"
    },
    "trusted": true,
    "ExecuteTime": {
     "end_time": "2023-07-04T10:22:18.853177500Z",
     "start_time": "2023-07-04T10:22:18.798737600Z"
    }
   },
   "execution_count": 10,
   "outputs": []
  },
  {
   "cell_type": "code",
   "source": [
    "data_m[data_m[\"Tags\"].isnull()]"
   ],
   "metadata": {
    "execution": {
     "iopub.status.busy": "2022-08-29T22:53:05.449716Z",
     "iopub.execute_input": "2022-08-29T22:53:05.450178Z",
     "iopub.status.idle": "2022-08-29T22:53:05.472389Z",
     "shell.execute_reply.started": "2022-08-29T22:53:05.450136Z",
     "shell.execute_reply": "2022-08-29T22:53:05.470074Z"
    },
    "trusted": true,
    "ExecuteTime": {
     "end_time": "2023-07-04T10:22:18.853177500Z",
     "start_time": "2023-07-04T10:22:18.808975100Z"
    }
   },
   "execution_count": 11,
   "outputs": [
    {
     "data": {
      "text/plain": "        Rank                                               Name   Type Tags  \\\n7910    7911                         Himitsu no Akko-chan Movie  Movie  NaN   \n8325    8326  Himitsu no Akko-chan: Umi da! Obake da!! Natsu...  Movie  NaN   \n8341    8342                        Nanaka 6/17: Ojamana Nanaka  DVD S  NaN   \n10185  10186                               Tobe! Kujira no Peek  Movie  NaN   \n\n                                             Description  \\\n7910   \"Taisho's father plans to construct an apartme...   \n8325   \"Akko spends a summer with her friends at her ...   \n8341   'Unaired episode included in the DVD release o...   \n10185  'The story of an albino whale used in a circus...   \n\n                                                   staff  \n7910   Fujio Akatsuka : Original Creator, Hiroki Shib...  \n8325   Fujio Akatsuka : Original Creator, Hiroki Shib...  \n8341                                                 NaN  \n10185  Kouji Morimoto : Director, Satoru Utsunomiya :...  ",
      "text/html": "<div>\n<style scoped>\n    .dataframe tbody tr th:only-of-type {\n        vertical-align: middle;\n    }\n\n    .dataframe tbody tr th {\n        vertical-align: top;\n    }\n\n    .dataframe thead th {\n        text-align: right;\n    }\n</style>\n<table border=\"1\" class=\"dataframe\">\n  <thead>\n    <tr style=\"text-align: right;\">\n      <th></th>\n      <th>Rank</th>\n      <th>Name</th>\n      <th>Type</th>\n      <th>Tags</th>\n      <th>Description</th>\n      <th>staff</th>\n    </tr>\n  </thead>\n  <tbody>\n    <tr>\n      <th>7910</th>\n      <td>7911</td>\n      <td>Himitsu no Akko-chan Movie</td>\n      <td>Movie</td>\n      <td>NaN</td>\n      <td>\"Taisho's father plans to construct an apartme...</td>\n      <td>Fujio Akatsuka : Original Creator, Hiroki Shib...</td>\n    </tr>\n    <tr>\n      <th>8325</th>\n      <td>8326</td>\n      <td>Himitsu no Akko-chan: Umi da! Obake da!! Natsu...</td>\n      <td>Movie</td>\n      <td>NaN</td>\n      <td>\"Akko spends a summer with her friends at her ...</td>\n      <td>Fujio Akatsuka : Original Creator, Hiroki Shib...</td>\n    </tr>\n    <tr>\n      <th>8341</th>\n      <td>8342</td>\n      <td>Nanaka 6/17: Ojamana Nanaka</td>\n      <td>DVD S</td>\n      <td>NaN</td>\n      <td>'Unaired episode included in the DVD release o...</td>\n      <td>NaN</td>\n    </tr>\n    <tr>\n      <th>10185</th>\n      <td>10186</td>\n      <td>Tobe! Kujira no Peek</td>\n      <td>Movie</td>\n      <td>NaN</td>\n      <td>'The story of an albino whale used in a circus...</td>\n      <td>Kouji Morimoto : Director, Satoru Utsunomiya :...</td>\n    </tr>\n  </tbody>\n</table>\n</div>"
     },
     "execution_count": 11,
     "metadata": {},
     "output_type": "execute_result"
    }
   ]
  },
  {
   "cell_type": "code",
   "source": [
    "filtering_4 = data_m[data_m[\"Tags\"].isnull()].index\n",
    "data_m.drop(filtering_4,inplace=True)"
   ],
   "metadata": {
    "execution": {
     "iopub.status.busy": "2022-08-29T22:53:05.473974Z",
     "iopub.execute_input": "2022-08-29T22:53:05.474946Z",
     "iopub.status.idle": "2022-08-29T22:53:05.48663Z",
     "shell.execute_reply.started": "2022-08-29T22:53:05.474896Z",
     "shell.execute_reply": "2022-08-29T22:53:05.485631Z"
    },
    "trusted": true,
    "ExecuteTime": {
     "end_time": "2023-07-04T10:22:18.853177500Z",
     "start_time": "2023-07-04T10:22:18.823042800Z"
    }
   },
   "execution_count": 12,
   "outputs": []
  },
  {
   "cell_type": "code",
   "source": [
    "data_m.isnull().sum()"
   ],
   "metadata": {
    "execution": {
     "iopub.status.busy": "2022-08-29T22:53:05.496229Z",
     "iopub.execute_input": "2022-08-29T22:53:05.49664Z",
     "iopub.status.idle": "2022-08-29T22:53:05.511405Z",
     "shell.execute_reply.started": "2022-08-29T22:53:05.496604Z",
     "shell.execute_reply": "2022-08-29T22:53:05.510372Z"
    },
    "trusted": true,
    "ExecuteTime": {
     "end_time": "2023-07-04T10:22:18.854176900Z",
     "start_time": "2023-07-04T10:22:18.825557600Z"
    }
   },
   "execution_count": 13,
   "outputs": [
    {
     "data": {
      "text/plain": "Rank              0\nName              0\nType              0\nTags              0\nDescription       4\nstaff          4300\ndtype: int64"
     },
     "execution_count": 13,
     "metadata": {},
     "output_type": "execute_result"
    }
   ]
  },
  {
   "cell_type": "code",
   "source": [
    "data_m.drop(\"Description\", axis=1, inplace=True)"
   ],
   "metadata": {
    "execution": {
     "iopub.status.busy": "2022-08-29T22:53:05.537782Z",
     "iopub.execute_input": "2022-08-29T22:53:05.538141Z",
     "iopub.status.idle": "2022-08-29T22:53:05.547112Z",
     "shell.execute_reply.started": "2022-08-29T22:53:05.538108Z",
     "shell.execute_reply": "2022-08-29T22:53:05.54596Z"
    },
    "trusted": true,
    "ExecuteTime": {
     "end_time": "2023-07-04T10:22:18.899910500Z",
     "start_time": "2023-07-04T10:22:18.837755Z"
    }
   },
   "execution_count": 14,
   "outputs": []
  },
  {
   "cell_type": "code",
   "source": [
    "data_m[\"staff\"].isna().sum()"
   ],
   "metadata": {
    "execution": {
     "iopub.status.busy": "2022-08-29T22:53:05.574612Z",
     "iopub.execute_input": "2022-08-29T22:53:05.575229Z",
     "iopub.status.idle": "2022-08-29T22:53:05.583707Z",
     "shell.execute_reply.started": "2022-08-29T22:53:05.575192Z",
     "shell.execute_reply": "2022-08-29T22:53:05.58262Z"
    },
    "trusted": true,
    "ExecuteTime": {
     "end_time": "2023-07-04T10:22:18.899910500Z",
     "start_time": "2023-07-04T10:22:18.843084300Z"
    }
   },
   "execution_count": 15,
   "outputs": [
    {
     "data": {
      "text/plain": "4300"
     },
     "execution_count": 15,
     "metadata": {},
     "output_type": "execute_result"
    }
   ]
  },
  {
   "cell_type": "code",
   "execution_count": 16,
   "outputs": [],
   "source": [
    "data_m_mini = data_m[data_m[\"staff\"].notnull()]"
   ],
   "metadata": {
    "collapsed": false,
    "ExecuteTime": {
     "end_time": "2023-07-04T10:22:18.907909200Z",
     "start_time": "2023-07-04T10:22:18.849177400Z"
    }
   }
  },
  {
   "cell_type": "code",
   "execution_count": 17,
   "outputs": [],
   "source": [
    "data_m_mini.reset_index(inplace = True)"
   ],
   "metadata": {
    "collapsed": false,
    "ExecuteTime": {
     "end_time": "2023-07-04T10:22:18.907909200Z",
     "start_time": "2023-07-04T10:22:18.857177Z"
    }
   }
  },
  {
   "cell_type": "code",
   "execution_count": 18,
   "outputs": [
    {
     "name": "stdout",
     "output_type": "stream",
     "text": [
      "{'Natsuki Takaya': 'Original Creator', 'Yoshihide Ibata': 'Director & Episode Director & Storyboard', 'Taku Kishimoto': 'Screenplay & Series Composition', 'Masaru Yokoyama': 'Music', 'Masaru Shindou': 'Character Design & Chief Animation Director', 'Baek-Ryun Chae': 'Photography Director', 'Youko Koyama': 'Art Director', 'Mika Sugawara': 'Color Design'}\n"
     ]
    }
   ],
   "source": [
    "#### SAMPLE #####\n",
    "try_1 = data_m_mini[\"staff\"][1].split(\",\")\n",
    "try_1 = {k.split(\":\")[0].strip() : k.split(\":\")[1].strip() for k in try_1}\n",
    "print(try_1)"
   ],
   "metadata": {
    "collapsed": false,
    "ExecuteTime": {
     "end_time": "2023-07-04T10:22:18.945358200Z",
     "start_time": "2023-07-04T10:22:18.863980Z"
    }
   }
  },
  {
   "cell_type": "code",
   "source": [
    "# Convert to dict\n",
    "data_m_mini[\"staff\"] = data_m_mini[\"staff\"].apply(lambda x: {k.split(\":\")[0].strip(): k.split(\":\")[1].strip() for k in x.split(\",\")})\n",
    "\n",
    "data_m_mini = data_m_mini[data_m_mini[\"staff\"].astype(bool)]\n",
    "data_m_mini.reset_index(drop=True, inplace=True)\n",
    "data_m_mini[\"staff\"] = data_m_mini[\"staff\"].apply(lambda x: x.get(\"Original Creator\"))\n",
    "data_m_mini[\"Tags\"] = data_m_mini[\"Tags\"] + \", \" + data_m_mini[\"staff\"]\n",
    "data_m_mini.drop(\"staff\", axis=1, inplace=True)\n",
    "data_m.drop(\"staff\", axis=1, inplace=True)\n",
    "data_m = data_m.set_index(['Rank', 'Name']).combine_first(data_m_mini.set_index(['Rank', 'Name'])).reset_index()"
   ],
   "metadata": {
    "execution": {
     "iopub.status.busy": "2022-08-29T22:53:18.282645Z",
     "iopub.execute_input": "2022-08-29T22:53:18.283474Z",
     "iopub.status.idle": "2022-08-29T22:53:18.34953Z",
     "shell.execute_reply.started": "2022-08-29T22:53:18.283414Z",
     "shell.execute_reply": "2022-08-29T22:53:18.348315Z"
    },
    "trusted": true,
    "ExecuteTime": {
     "end_time": "2023-07-04T10:22:18.992234Z",
     "start_time": "2023-07-04T10:22:18.870909300Z"
    }
   },
   "execution_count": 19,
   "outputs": []
  },
  {
   "cell_type": "code",
   "source": [
    "data_m[\"Tags\"] = data_m[\"Tags\"].str.replace(\" \", \"\").str.replace(\",\", \" \").str.lower()"
   ],
   "metadata": {
    "execution": {
     "iopub.status.busy": "2022-08-29T22:53:28.894035Z",
     "iopub.execute_input": "2022-08-29T22:53:28.894596Z",
     "iopub.status.idle": "2022-08-29T22:53:28.904862Z",
     "shell.execute_reply.started": "2022-08-29T22:53:28.89456Z",
     "shell.execute_reply": "2022-08-29T22:53:28.903777Z"
    },
    "trusted": true,
    "ExecuteTime": {
     "end_time": "2023-07-04T10:22:18.992234Z",
     "start_time": "2023-07-04T10:22:18.945358200Z"
    }
   },
   "execution_count": 20,
   "outputs": []
  },
  {
   "cell_type": "code",
   "source": [
    "data = data_m.copy()"
   ],
   "metadata": {
    "execution": {
     "iopub.status.busy": "2022-08-29T22:53:28.906335Z",
     "iopub.execute_input": "2022-08-29T22:53:28.906683Z",
     "iopub.status.idle": "2022-08-29T22:53:28.927228Z",
     "shell.execute_reply.started": "2022-08-29T22:53:28.906651Z",
     "shell.execute_reply": "2022-08-29T22:53:28.926039Z"
    },
    "trusted": true,
    "ExecuteTime": {
     "end_time": "2023-07-04T10:22:18.992234Z",
     "start_time": "2023-07-04T10:22:18.946872200Z"
    }
   },
   "execution_count": 21,
   "outputs": []
  },
  {
   "cell_type": "code",
   "source": [
    "data"
   ],
   "metadata": {
    "execution": {
     "iopub.status.busy": "2022-08-29T22:53:28.928666Z",
     "iopub.execute_input": "2022-08-29T22:53:28.92911Z",
     "iopub.status.idle": "2022-08-29T22:53:28.947924Z",
     "shell.execute_reply.started": "2022-08-29T22:53:28.929077Z",
     "shell.execute_reply": "2022-08-29T22:53:28.947037Z"
    },
    "trusted": true,
    "ExecuteTime": {
     "end_time": "2023-07-04T10:22:19.007233900Z",
     "start_time": "2023-07-04T10:22:18.952052200Z"
    }
   },
   "execution_count": 22,
   "outputs": [
    {
     "data": {
      "text/plain": "        Rank                                               Name  \\\n0          1  Demon Slayer: Kimetsu no Yaiba - Entertainment...   \n1          2                     Fruits Basket the Final Season   \n2          3                                    Mo Dao Zu Shi 3   \n3          4                   Fullmetal Alchemist: Brotherhood   \n4          5                Attack on Titan 3rd Season: Part II   \n...      ...                                                ...   \n13351  18491  Qin Shi Mingyue: Canghai Hengliu Xiaomeng Spec...   \n13352  18492                      Yi Tang Juchang: Sanguo Yanyi   \n13353  18493          Fenghuang Ji Xiang Yu Qingming Shanghe Tu   \n13354  18494                      Chengshi Jiyi Wo Men de Jieri   \n13355  18495  Heisei Inu Monogatari Bow: Genshi Inu Monogata...   \n\n                                                    Tags   Type  index  \n0      action adventure fantasy shounen demons histor...     TV    0.0  \n1      drama fantasy romance shoujo animaltransformat...     TV    1.0  \n2      fantasy ancientchina chineseanimation cultivat...    Web    2.0  \n3      action adventure drama fantasy mystery shounen...     TV    3.0  \n4      action fantasy horror shounen darkfantasy isol...     TV    4.0  \n...                                                  ...    ...    ...  \n13351  action ancientchina chineseanimation historica...    Web    NaN  \n13352                                   chineseanimation     TV    NaN  \n13353      chineseanimation familyfriendly shortepisodes     TV    NaN  \n13354      chineseanimation familyfriendly shortepisodes     TV    NaN  \n13355                            comedy sliceoflife dogs  Movie    NaN  \n\n[13356 rows x 5 columns]",
      "text/html": "<div>\n<style scoped>\n    .dataframe tbody tr th:only-of-type {\n        vertical-align: middle;\n    }\n\n    .dataframe tbody tr th {\n        vertical-align: top;\n    }\n\n    .dataframe thead th {\n        text-align: right;\n    }\n</style>\n<table border=\"1\" class=\"dataframe\">\n  <thead>\n    <tr style=\"text-align: right;\">\n      <th></th>\n      <th>Rank</th>\n      <th>Name</th>\n      <th>Tags</th>\n      <th>Type</th>\n      <th>index</th>\n    </tr>\n  </thead>\n  <tbody>\n    <tr>\n      <th>0</th>\n      <td>1</td>\n      <td>Demon Slayer: Kimetsu no Yaiba - Entertainment...</td>\n      <td>action adventure fantasy shounen demons histor...</td>\n      <td>TV</td>\n      <td>0.0</td>\n    </tr>\n    <tr>\n      <th>1</th>\n      <td>2</td>\n      <td>Fruits Basket the Final Season</td>\n      <td>drama fantasy romance shoujo animaltransformat...</td>\n      <td>TV</td>\n      <td>1.0</td>\n    </tr>\n    <tr>\n      <th>2</th>\n      <td>3</td>\n      <td>Mo Dao Zu Shi 3</td>\n      <td>fantasy ancientchina chineseanimation cultivat...</td>\n      <td>Web</td>\n      <td>2.0</td>\n    </tr>\n    <tr>\n      <th>3</th>\n      <td>4</td>\n      <td>Fullmetal Alchemist: Brotherhood</td>\n      <td>action adventure drama fantasy mystery shounen...</td>\n      <td>TV</td>\n      <td>3.0</td>\n    </tr>\n    <tr>\n      <th>4</th>\n      <td>5</td>\n      <td>Attack on Titan 3rd Season: Part II</td>\n      <td>action fantasy horror shounen darkfantasy isol...</td>\n      <td>TV</td>\n      <td>4.0</td>\n    </tr>\n    <tr>\n      <th>...</th>\n      <td>...</td>\n      <td>...</td>\n      <td>...</td>\n      <td>...</td>\n      <td>...</td>\n    </tr>\n    <tr>\n      <th>13351</th>\n      <td>18491</td>\n      <td>Qin Shi Mingyue: Canghai Hengliu Xiaomeng Spec...</td>\n      <td>action ancientchina chineseanimation historica...</td>\n      <td>Web</td>\n      <td>NaN</td>\n    </tr>\n    <tr>\n      <th>13352</th>\n      <td>18492</td>\n      <td>Yi Tang Juchang: Sanguo Yanyi</td>\n      <td>chineseanimation</td>\n      <td>TV</td>\n      <td>NaN</td>\n    </tr>\n    <tr>\n      <th>13353</th>\n      <td>18493</td>\n      <td>Fenghuang Ji Xiang Yu Qingming Shanghe Tu</td>\n      <td>chineseanimation familyfriendly shortepisodes</td>\n      <td>TV</td>\n      <td>NaN</td>\n    </tr>\n    <tr>\n      <th>13354</th>\n      <td>18494</td>\n      <td>Chengshi Jiyi Wo Men de Jieri</td>\n      <td>chineseanimation familyfriendly shortepisodes</td>\n      <td>TV</td>\n      <td>NaN</td>\n    </tr>\n    <tr>\n      <th>13355</th>\n      <td>18495</td>\n      <td>Heisei Inu Monogatari Bow: Genshi Inu Monogata...</td>\n      <td>comedy sliceoflife dogs</td>\n      <td>Movie</td>\n      <td>NaN</td>\n    </tr>\n  </tbody>\n</table>\n<p>13356 rows × 5 columns</p>\n</div>"
     },
     "execution_count": 22,
     "metadata": {},
     "output_type": "execute_result"
    }
   ]
  },
  {
   "cell_type": "markdown",
   "source": [],
   "metadata": {}
  },
  {
   "cell_type": "code",
   "source": [
    "from sklearn.feature_extraction.text import CountVectorizer\n",
    "cv = CountVectorizer(max_features = 13500,stop_words=\"english\")"
   ],
   "metadata": {
    "execution": {
     "iopub.status.busy": "2022-08-29T22:53:28.949305Z",
     "iopub.execute_input": "2022-08-29T22:53:28.95058Z",
     "iopub.status.idle": "2022-08-29T22:53:29.351082Z",
     "shell.execute_reply.started": "2022-08-29T22:53:28.950533Z",
     "shell.execute_reply": "2022-08-29T22:53:29.349793Z"
    },
    "trusted": true,
    "ExecuteTime": {
     "end_time": "2023-07-04T10:22:19.279237300Z",
     "start_time": "2023-07-04T10:22:18.964233500Z"
    }
   },
   "execution_count": 23,
   "outputs": []
  },
  {
   "cell_type": "code",
   "execution_count": 24,
   "outputs": [
    {
     "data": {
      "text/plain": "array([[0, 0, 0, ..., 0, 0, 0],\n       [0, 0, 0, ..., 0, 0, 0],\n       [0, 0, 0, ..., 0, 0, 0],\n       ...,\n       [0, 0, 0, ..., 0, 0, 0],\n       [0, 0, 0, ..., 0, 0, 0],\n       [0, 0, 0, ..., 0, 0, 0]], dtype=int64)"
     },
     "execution_count": 24,
     "metadata": {},
     "output_type": "execute_result"
    }
   ],
   "source": [
    "cv.fit_transform(data[\"Tags\"]).toarray()"
   ],
   "metadata": {
    "collapsed": false,
    "ExecuteTime": {
     "end_time": "2023-07-04T10:22:19.346238200Z",
     "start_time": "2023-07-04T10:22:19.280238700Z"
    }
   }
  },
  {
   "cell_type": "code",
   "source": [
    "vectors = cv.fit_transform(data[\"Tags\"]).toarray()"
   ],
   "metadata": {
    "execution": {
     "iopub.status.busy": "2022-08-29T22:53:29.850064Z",
     "iopub.execute_input": "2022-08-29T22:53:29.850525Z",
     "iopub.status.idle": "2022-08-29T22:53:30.082138Z",
     "shell.execute_reply.started": "2022-08-29T22:53:29.850479Z",
     "shell.execute_reply": "2022-08-29T22:53:30.081031Z"
    },
    "trusted": true,
    "ExecuteTime": {
     "end_time": "2023-07-04T10:22:19.410340600Z",
     "start_time": "2023-07-04T10:22:19.346238200Z"
    }
   },
   "execution_count": 25,
   "outputs": []
  },
  {
   "cell_type": "code",
   "source": [
    "from sklearn.metrics.pairwise import cosine_similarity\n",
    "similarity = cosine_similarity(vectors)\n",
    "similarity.shape"
   ],
   "metadata": {
    "execution": {
     "iopub.status.busy": "2022-08-29T22:53:30.095216Z",
     "iopub.execute_input": "2022-08-29T22:53:30.095946Z",
     "iopub.status.idle": "2022-08-29T22:53:35.839729Z",
     "shell.execute_reply.started": "2022-08-29T22:53:30.095904Z",
     "shell.execute_reply": "2022-08-29T22:53:35.838533Z"
    },
    "trusted": true,
    "ExecuteTime": {
     "end_time": "2023-07-04T10:22:21.810574400Z",
     "start_time": "2023-07-04T10:22:19.411341100Z"
    }
   },
   "execution_count": 26,
   "outputs": [
    {
     "data": {
      "text/plain": "(13356, 13356)"
     },
     "execution_count": 26,
     "metadata": {},
     "output_type": "execute_result"
    }
   ]
  },
  {
   "cell_type": "code",
   "source": [
    "def anime_recommender(user_input):\n",
    "    index_of_anime = data[data[\"Name\"] == user_input].index[0]\n",
    "    similarity_score = similarity[index_of_anime]\n",
    "    sorted_scores = sorted(enumerate(similarity_score), reverse=True, key=lambda x: x[1])[1:6]\n",
    "    recommended_anime = [data.iloc[score[0]].Name for score in sorted_scores]\n",
    "    return recommended_anime"
   ],
   "metadata": {
    "execution": {
     "iopub.status.busy": "2022-08-29T22:53:35.851006Z",
     "iopub.execute_input": "2022-08-29T22:53:35.851327Z",
     "iopub.status.idle": "2022-08-29T22:53:35.865479Z",
     "shell.execute_reply.started": "2022-08-29T22:53:35.851297Z",
     "shell.execute_reply": "2022-08-29T22:53:35.864513Z"
    },
    "trusted": true,
    "ExecuteTime": {
     "end_time": "2023-07-04T10:22:21.820648300Z",
     "start_time": "2023-07-04T10:22:21.811572700Z"
    }
   },
   "execution_count": 27,
   "outputs": []
  },
  {
   "cell_type": "code",
   "source": [
    "anime_recommender(\"Gunslinger Stratos: The Animation\") #(\"Yaoshenji 2nd Season\")(\"Kaibutsu-kun Movie\")(\"Fighting Foodons\")(\"Jujutsu Kaisen\")"
   ],
   "metadata": {
    "execution": {
     "iopub.status.busy": "2022-08-29T22:53:35.867054Z",
     "iopub.execute_input": "2022-08-29T22:53:35.867413Z",
     "iopub.status.idle": "2022-08-29T22:53:35.889693Z",
     "shell.execute_reply.started": "2022-08-29T22:53:35.867382Z",
     "shell.execute_reply": "2022-08-29T22:53:35.888446Z"
    },
    "trusted": true,
    "ExecuteTime": {
     "end_time": "2023-07-04T10:22:21.828371Z",
     "start_time": "2023-07-04T10:22:21.815648200Z"
    }
   },
   "execution_count": 28,
   "outputs": [
    {
     "data": {
      "text/plain": "['Gunslinger Stratos: The Animation - Kikan/Kaze no Yukue',\n 'Danball Senki Wars',\n 'Danball Senki Wars: All Star Battle',\n 'Ryuusei no Rockman',\n 'Phantasy Star Online 2: Episode Oracle']"
     },
     "execution_count": 28,
     "metadata": {},
     "output_type": "execute_result"
    }
   ]
  },
  {
   "cell_type": "code",
   "execution_count": 29,
   "outputs": [],
   "source": [
    "import pickle\n",
    "pickle.dump(data, open(\"anime_rating.pkl\", \"wb\"))\n",
    "pickle.dump(similarity, open(\"anime_similarity.pkl\", \"wb\"))"
   ],
   "metadata": {
    "collapsed": false,
    "ExecuteTime": {
     "end_time": "2023-07-04T10:22:23.412611500Z",
     "start_time": "2023-07-04T10:22:21.830370900Z"
    }
   }
  },
  {
   "cell_type": "code",
   "execution_count": 30,
   "outputs": [],
   "source": [
    "anime_rating = pickle.load(open(\"anime_rating.pkl\", \"rb\"))\n",
    "similarity = pickle.load(open(\"anime_similarity.pkl\", \"rb\"))"
   ],
   "metadata": {
    "collapsed": false,
    "ExecuteTime": {
     "end_time": "2023-07-04T10:22:24.633639Z",
     "start_time": "2023-07-04T10:22:23.414612500Z"
    }
   }
  },
  {
   "cell_type": "code",
   "execution_count": 31,
   "outputs": [],
   "source": [
    "def anime_recommender(user_input):\n",
    "    index_of_anime = anime_rating[anime_rating[\"Name\"] == user_input].index[0]\n",
    "    similarity_score = similarity[index_of_anime]\n",
    "    sorted_scores = sorted(enumerate(similarity_score), reverse=True, key=lambda x: x[1])[1:6]\n",
    "    recommended_anime = [anime_rating.iloc[score[0]].Name for score in sorted_scores]\n",
    "    return recommended_anime"
   ],
   "metadata": {
    "collapsed": false,
    "ExecuteTime": {
     "end_time": "2023-07-04T10:22:24.637253500Z",
     "start_time": "2023-07-04T10:22:24.634640Z"
    }
   }
  },
  {
   "cell_type": "code",
   "execution_count": 32,
   "outputs": [
    {
     "name": "stdout",
     "output_type": "stream",
     "text": [
      "['Gunslinger Stratos: The Animation - Kikan/Kaze no Yukue', 'Danball Senki Wars', 'Danball Senki Wars: All Star Battle', 'Ryuusei no Rockman', 'Phantasy Star Online 2: Episode Oracle']\n"
     ]
    }
   ],
   "source": [
    "print(anime_recommender(\"Gunslinger Stratos: The Animation\"))"
   ],
   "metadata": {
    "collapsed": false,
    "ExecuteTime": {
     "end_time": "2023-07-04T10:22:24.652360Z",
     "start_time": "2023-07-04T10:22:24.637253500Z"
    }
   }
  }
 ]
}
